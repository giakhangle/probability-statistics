{
  "nbformat": 4,
  "nbformat_minor": 0,
  "metadata": {
    "colab": {
      "provenance": [],
      "authorship_tag": "ABX9TyNWA/+wAVj8w9l6owSuZxyR",
      "include_colab_link": true
    },
    "kernelspec": {
      "name": "python3",
      "display_name": "Python 3"
    },
    "language_info": {
      "name": "python"
    }
  },
  "cells": [
    {
      "cell_type": "markdown",
      "metadata": {
        "id": "view-in-github",
        "colab_type": "text"
      },
      "source": [
        "<a href=\"https://colab.research.google.com/github/giakhangle/probability-statistics/blob/main/legiakhang_207ct68639_tuan5.ipynb\" target=\"_parent\"><img src=\"https://colab.research.google.com/assets/colab-badge.svg\" alt=\"Open In Colab\"/></a>"
      ]
    },
    {
      "cell_type": "markdown",
      "source": [
        "Thực hành 14"
      ],
      "metadata": {
        "id": "iKeHWsmw7zwt"
      }
    },
    {
      "cell_type": "code",
      "execution_count": 3,
      "metadata": {
        "colab": {
          "base_uri": "https://localhost:8080/"
        },
        "id": "00GTYcOW7wtR",
        "outputId": "ed982d27-b792-4058-d6f6-033747224c7d"
      },
      "outputs": [
        {
          "output_type": "stream",
          "name": "stdout",
          "text": [
            "19.216\n",
            "20.784\n"
          ]
        }
      ],
      "source": [
        "#code thô\n",
        "import math\n",
        "from scipy import stats\n",
        "import numpy as np\n",
        "from numpy import random\n",
        "sigma=2\n",
        "n=25\n",
        "X=20\n",
        "U=1.96\n",
        "conf_left = X-(U*(sigma/math.sqrt(n)))\n",
        "conf_right = X+(U*(sigma/math.sqrt(n)))\n",
        "print(conf_left)\n",
        "print(conf_right)"
      ]
    },
    {
      "cell_type": "code",
      "source": [
        "import numpy as np, scipy.stats as st\n",
        "a = random.normal(20,2,25)\n",
        "mean, sigma = np.mean(a), np.std(a)\n",
        "conf_int = stats.norm.interval(0.95, loc=mean, scale=sigma / np.sqrt(len(a)))\n",
        "conf_int"
      ],
      "metadata": {
        "colab": {
          "base_uri": "https://localhost:8080/"
        },
        "id": "AqIT_qjL9nLT",
        "outputId": "5f2b79b8-d743-4ba8-f526-4cfdd2456add"
      },
      "execution_count": 42,
      "outputs": [
        {
          "output_type": "execute_result",
          "data": {
            "text/plain": [
              "(19.858651782523793, 21.10973201835762)"
            ]
          },
          "metadata": {},
          "execution_count": 42
        }
      ]
    },
    {
      "cell_type": "markdown",
      "source": [
        "\n",
        "Thực hành 15"
      ],
      "metadata": {
        "id": "IGXml00kJR2F"
      }
    },
    {
      "cell_type": "code",
      "source": [
        "#code thô\n",
        "x=208.455\n",
        "s=12.233\n",
        "z=2.58\n",
        "N=220\n",
        "conf_left = x-(z*(s/math.sqrt(N)))\n",
        "conf_right = x+(z*(s/math.sqrt(N)))\n",
        "print(conf_left)\n",
        "print(conf_right)"
      ],
      "metadata": {
        "id": "cX0vIju2JTjV",
        "outputId": "5477f923-1c9d-4399-9fea-1c419ea217db",
        "colab": {
          "base_uri": "https://localhost:8080/"
        }
      },
      "execution_count": 32,
      "outputs": [
        {
          "output_type": "stream",
          "name": "stdout",
          "text": [
            "206.3271483752817\n",
            "210.58285162471833\n"
          ]
        }
      ]
    },
    {
      "cell_type": "code",
      "source": [
        "a = random.normal(208.45,12.233,220)\n",
        "conf_int = stats.norm.interval(0.99, loc=mean, scale=s / np.sqrt(len(a)))\n",
        "conf_int"
      ],
      "metadata": {
        "id": "2B8MERolLCa5",
        "outputId": "f664dcb0-8d3f-445d-84d6-759b1e68b08e",
        "colab": {
          "base_uri": "https://localhost:8080/"
        }
      },
      "execution_count": 39,
      "outputs": [
        {
          "output_type": "execute_result",
          "data": {
            "text/plain": [
              "(206.55438503384045, 210.64681789072694)"
            ]
          },
          "metadata": {},
          "execution_count": 39
        }
      ]
    }
  ]
}