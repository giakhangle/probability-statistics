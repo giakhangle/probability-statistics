{
  "nbformat": 4,
  "nbformat_minor": 0,
  "metadata": {
    "colab": {
      "provenance": [],
      "authorship_tag": "ABX9TyOAb5hU1PvIup2JuJGP/8dQ",
      "include_colab_link": true
    },
    "kernelspec": {
      "name": "python3",
      "display_name": "Python 3"
    },
    "language_info": {
      "name": "python"
    }
  },
  "cells": [
    {
      "cell_type": "markdown",
      "metadata": {
        "id": "view-in-github",
        "colab_type": "text"
      },
      "source": [
        "<a href=\"https://colab.research.google.com/github/giakhangle/probability-statistics/blob/main/legiakhang_207ct68639_tuan7.ipynb\" target=\"_parent\"><img src=\"https://colab.research.google.com/assets/colab-badge.svg\" alt=\"Open In Colab\"/></a>"
      ]
    },
    {
      "cell_type": "markdown",
      "source": [
        "Thực hành 15"
      ],
      "metadata": {
        "id": "NNr7AaFAFQ2l"
      }
    },
    {
      "cell_type": "code",
      "execution_count": 13,
      "metadata": {
        "colab": {
          "base_uri": "https://localhost:8080/"
        },
        "id": "S_CKElK0AGE-",
        "outputId": "129aa099-f825-4270-e3e4-e242fec32ece"
      },
      "outputs": [
        {
          "output_type": "stream",
          "name": "stdout",
          "text": [
            "2.6093122922137693\n",
            "0.009072440449271912\n",
            "z_score > muc y nghia => bác bỏ H0, chấp nhận H1\n",
            "p_value < muc y nghia => Tỷ lệ người dân ở Hà Nội đi làm bằng xe đạp khác với 6% \n"
          ]
        }
      ],
      "source": [
        "import math\n",
        "tong_mau=240\n",
        "so_mau=24\n",
        "p=0.06\n",
        "muc_y_nghia=0.05\n",
        "f=so_mau/tong_mau\n",
        "f\n",
        "std_dev= math.sqrt((p*(1 - p))/tong_mau)\n",
        "std_dev\n",
        "z_score = (f - p)/std_dev\n",
        "print(z_score)\n",
        "from scipy import stats\n",
        "#sử dụng thư viên Thống kê gọi hàm cdf\n",
        "p_one_way_value = 1 - stats.norm.cdf(z_score)\n",
        "p_value = p_one_way_value * 2\n",
        "print(p_value)\n",
        "print('''z_score > muc y nghia => bác bỏ H0, chấp nhận H1\n",
        "p_value < muc y nghia => Tỷ lệ người dân ở Hà Nội đi làm bằng xe đạp khác với 6% ''')"
      ]
    },
    {
      "cell_type": "markdown",
      "source": [
        "Thực hành 16"
      ],
      "metadata": {
        "id": "gheAHa8CFTzc"
      }
    },
    {
      "cell_type": "code",
      "source": [
        "import math\n",
        "tong_mau=300\n",
        "so_mau=30\n",
        "p=0.06\n",
        "muc_y_nghia=0.05\n",
        "f=so_mau/tong_mau\n",
        "f\n",
        "std = math.sqrt((p*(1 - p))/tong_mau)\n",
        "std\n",
        "z_score = (f - p)/std\n",
        "print(z_score)\n",
        "from scipy import stats\n",
        "p_one_way_value = 1 - stats.norm.cdf(z_score)\n",
        "p_value = p_one_way_value * 2\n",
        "print(p_value)\n",
        "print('''z_score > muc y nghia => bác bỏ H0, chấp nhận H1\n",
        "p_value < muc y nghia => Tỷ lệ người dân ở Hà Nội đi làm bằng xe đạp khác với 6% ''')"
      ],
      "metadata": {
        "colab": {
          "base_uri": "https://localhost:8080/"
        },
        "id": "lRN4j5CZFVwf",
        "outputId": "a1796506-6522-439f-c077-0c0071010a52"
      },
      "execution_count": 12,
      "outputs": [
        {
          "output_type": "stream",
          "name": "stdout",
          "text": [
            "2.917299829957892\n",
            "0.0035307619178310823\n",
            "z_score > muc y nghia => bác bỏ H0, chấp nhận H1\n",
            "p_value < muc y nghia => Tỷ lệ người dân ở Hà Nội đi làm bằng xe đạp khác với 6% \n"
          ]
        }
      ]
    },
    {
      "cell_type": "markdown",
      "source": [
        "Thực hành 17"
      ],
      "metadata": {
        "id": "cVkFV5WOJyeN"
      }
    },
    {
      "cell_type": "code",
      "source": [
        "import math\n",
        "tong_mau=1000\n",
        "so_mau=232\n",
        "p=0.2\n",
        "muc_y_nghia=0.05\n",
        "f=so_mau/tong_mau\n",
        "f\n",
        "std = math.sqrt((p*(1 - p))/tong_mau)\n",
        "std\n",
        "z_score = (f - p)/std\n",
        "print(z_score)\n",
        "from scipy import stats\n",
        "p_one_way_value = 1 - stats.norm.cdf(z_score)\n",
        "p_value = p_one_way_value * 2\n",
        "print(p_value)\n",
        "print('''z_score > muc y nghia => bác bỏ H0, chấp nhận H1\n",
        "p_value < muc y nghia => Tỷ lệ ký sinh trùng sốt rét trong máu khác với 20% ''')"
      ],
      "metadata": {
        "colab": {
          "base_uri": "https://localhost:8080/"
        },
        "id": "HZfn73JTJ0_M",
        "outputId": "068dba23-3861-4977-82d2-8062edfd36f7"
      },
      "execution_count": 15,
      "outputs": [
        {
          "output_type": "stream",
          "name": "stdout",
          "text": [
            "2.529822128134703\n",
            "0.011412036386001745\n",
            "z_score > muc y nghia => bác bỏ H0, chấp nhận H1\n",
            "p_value < muc y nghia => Tỷ lệ ký sinh trùng sốt rét trong máu khác với 20% \n"
          ]
        }
      ]
    }
  ]
}