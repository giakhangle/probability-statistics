{
  "nbformat": 4,
  "nbformat_minor": 0,
  "metadata": {
    "colab": {
      "provenance": [],
      "authorship_tag": "ABX9TyOHfPsiT+DzA70r5W1fRpCx",
      "include_colab_link": true
    },
    "kernelspec": {
      "name": "python3",
      "display_name": "Python 3"
    },
    "language_info": {
      "name": "python"
    }
  },
  "cells": [
    {
      "cell_type": "markdown",
      "metadata": {
        "id": "view-in-github",
        "colab_type": "text"
      },
      "source": [
        "<a href=\"https://colab.research.google.com/github/giakhangle/probability-statistics/blob/main/legiakhang_207ct68639_tuan4.ipynb\" target=\"_parent\"><img src=\"https://colab.research.google.com/assets/colab-badge.svg\" alt=\"Open In Colab\"/></a>"
      ]
    },
    {
      "cell_type": "markdown",
      "source": [
        "Thực hành 7"
      ],
      "metadata": {
        "id": "WYqvs0Bm2N4i"
      }
    },
    {
      "cell_type": "code",
      "execution_count": 21,
      "metadata": {
        "colab": {
          "base_uri": "https://localhost:8080/"
        },
        "id": "1hl9ibgK1slI",
        "outputId": "c87ea094-1e38-4e8b-896a-3b9e558a0da1"
      },
      "outputs": [
        {
          "output_type": "stream",
          "name": "stdout",
          "text": [
            "MultinomialNB(alpha=1)\n",
            "Probability of e4 in each class: [[0.66589595 0.33410405]]\n",
            "Predicting class of e4: N\n"
          ]
        }
      ],
      "source": [
        "#Thuc hanh 7\n",
        "#pip install scikit-learn...\n",
        "#KeyboardInterrupt\n",
        "#naive_bayes_multinomial.py...\n",
        "from sklearn.naive_bayes import MultinomialNB\n",
        "#thư viện hàm Bayes-Multinomial Naive Bayes\n",
        "import numpy as np\n",
        "#train data-dữ liệu huấn luyện\n",
        "e1 = [1, 2, 1, 0, 1, 0, 0]\n",
        "e2 = [0, 2, 0, 0, 1, 1, 1]\n",
        "e3 = [1, 0, 1, 1, 0, 2, 0]\n",
        "train_data = np.array([e1, e2, e3])\n",
        "label = np.array(['N', 'N', 'S'])\n",
        "e4 = np.array([[1, 0, 0, 0, 0, 0, 1]]) #test data–dữ liệu kiểm tra\n",
        "clf1 = MultinomialNB(alpha=1)\n",
        "print(clf1.fit(train_data, label))\n",
        "#Huan luyen (phân tích, xử lý ..)\n",
        "print('Probability of e4 in each class:', clf1.predict_proba(e4))\n",
        "print('Predicting class of e4:', str(clf1.predict(e4)[0]))"
      ]
    },
    {
      "cell_type": "markdown",
      "source": [
        "Thực hành 8"
      ],
      "metadata": {
        "id": "NfHUz1AY2WkJ"
      }
    },
    {
      "cell_type": "code",
      "source": [
        "import math\n",
        "data = [0.6, 0.24, 0.36, 1.20, 1.8, 4.40, 2.2, 3.2, 60, 80]\n",
        "def mean(data): #median —trung vị(giá trị ở giữa -middle value)\n",
        "  return sum(data)/len(data)\n",
        "mu = mean(data)\n",
        "print(mu)\n",
        "import numpy #sử dụng thư viện numpy\n",
        "numpy.mean(data)\n",
        "data = [0.6, 0.24, 0.36, 1.20, 1.8, 4.40, 2.2, 3.2, 60, 80]\n",
        "import statistics #sử dụng thư viện thống kê\n",
        "print(statistics.mean(data))\n",
        "#Mode là giá trị xuất hiện nhiều lần nhất trong tập dữ liệu data\n",
        "def mode(data):\n",
        "  dmax = data[5]\n",
        "  for d in data:\n",
        "    if data.count(d) > data.count(dmax):\n",
        "      dmax = d\n",
        "  return dmax\n",
        "mode(data)"
      ],
      "metadata": {
        "colab": {
          "base_uri": "https://localhost:8080/"
        },
        "id": "WjWF14XO2Zq7",
        "outputId": "7430d37b-dc37-4816-d279-93b57aef9ea1"
      },
      "execution_count": 20,
      "outputs": [
        {
          "output_type": "stream",
          "name": "stdout",
          "text": [
            "15.4\n",
            "15.4\n"
          ]
        },
        {
          "output_type": "execute_result",
          "data": {
            "text/plain": [
              "4.4"
            ]
          },
          "metadata": {},
          "execution_count": 20
        }
      ]
    },
    {
      "cell_type": "markdown",
      "source": [
        "Thực hành 9"
      ],
      "metadata": {
        "id": "yfHXDzzu2scY"
      }
    },
    {
      "cell_type": "code",
      "source": [
        "data = [1.6, 52.8, 18.36, 5.2, 1.8, 4.9, 2.5, 3.2, 60, 90]\n",
        "def mode(data):\n",
        "  dmax = data[7]\n",
        "  for d in data:\n",
        "    if data.count(d) > data.count(dmax):\n",
        "      dmax = d\n",
        "  return dmax\n",
        "mode(data)\n",
        "#Mode là giá trị xuất hiện nhiều lần nhất trong tập dữ liệu data\n",
        "import statistics #sử dụng thư viện thống kê\n",
        "print(statistics.mean(data))"
      ],
      "metadata": {
        "colab": {
          "base_uri": "https://localhost:8080/"
        },
        "id": "JKEnHJgJ2ud6",
        "outputId": "565560c0-176a-42ae-9151-c296b8a04095"
      },
      "execution_count": 4,
      "outputs": [
        {
          "output_type": "stream",
          "name": "stdout",
          "text": [
            "24.036\n"
          ]
        }
      ]
    },
    {
      "cell_type": "markdown",
      "source": [
        "Thực hành 10"
      ],
      "metadata": {
        "id": "wtxAaL3i27yv"
      }
    },
    {
      "cell_type": "code",
      "source": [
        "import math\n",
        "from matplotlib import pyplot as plt\n",
        "SoGiay = [20.4, 26.2, 18.9, 21.0, 20.6, 17.7, 19.1, 22.4, 21.3, 24.5]\n",
        "SoLanChay = [1,2,3,4,5,6,7,8,9,10]\n",
        "xs = [i + 0.3 for i, _ in enumerate(SoLanChay)]\n",
        "plt.bar(xs, SoGiay)\n",
        "plt.xticks([i + 0.3 for i, _ in enumerate(SoLanChay)], SoLanChay)\n",
        "plt.title(\"Thống kê - số lần chạy/giây\")\n",
        "plt.xlabel(\"Trục Ox - Số lần chạy\")\n",
        "plt.ylabel(\"Trụ Oy - Số giây\")\n",
        "plt.show() #Ghi thêm title chính, title OX, title OY;"
      ],
      "metadata": {
        "colab": {
          "base_uri": "https://localhost:8080/",
          "height": 297
        },
        "id": "yEMe90E329ue",
        "outputId": "8e60dd2d-341c-45da-99d1-4b3020b7139a"
      },
      "execution_count": 15,
      "outputs": [
        {
          "output_type": "display_data",
          "data": {
            "text/plain": [
              "<Figure size 432x288 with 1 Axes>"
            ],
            "image/png": "[encoded data removed]"
          },
          "metadata": {
            "needs_background": "light"
          }
        }
      ]
    },
    {
      "cell_type": "markdown",
      "source": [
        "Thực hành 11"
      ],
      "metadata": {
        "id": "3JdzVIp6HRR3"
      }
    },
    {
      "cell_type": "code",
      "source": [
        "from scipy import stats\n",
        "import numpy as np\n",
        "from numpy import random\n",
        "a = random.normal(0,1,10000)\n",
        "mean, sigma = np.mean(a), np.std(a)\n",
        "# conf_int_a (confidence interval a- khoảng tin cậy của a);\n",
        "conf_int_a = stats.norm.interval(0.68, loc=mean, scale=sigma)\n",
        "conf_int_b = stats.norm.interval(0.68, loc=mean, scale=sigma / np.sqrt(len(a)))\n",
        "print(conf_int_a)\n",
        "print(conf_int_b)"
      ],
      "metadata": {
        "colab": {
          "base_uri": "https://localhost:8080/"
        },
        "id": "ZfE4ur-tHVfA",
        "outputId": "cf780b68-260c-4eb6-dce6-e03bf2935af3"
      },
      "execution_count": 28,
      "outputs": [
        {
          "output_type": "stream",
          "name": "stdout",
          "text": [
            "(-1.0024732865661075, 1.0101556009564545)\n",
            "(-0.006221987242439455, 0.013904301632786165)\n"
          ]
        }
      ]
    },
    {
      "cell_type": "code",
      "source": [
        "from scipy import stats\n",
        "import numpy as np\n",
        "sigma=2\n",
        "n=16\n",
        "X=12\n",
        "U=1.96\n",
        "conf_left = X-(U*(sigma/math.sqrt(n)))\n",
        "conf_right = X+(U*(sigma/math.sqrt(n)))\n",
        "print(conf_left)\n",
        "print(conf_right)"
      ],
      "metadata": {
        "colab": {
          "base_uri": "https://localhost:8080/"
        },
        "id": "0Wmd5cypJcFo",
        "outputId": "515fbc8e-2208-4272-c7f4-9d27219ef2ad"
      },
      "execution_count": 27,
      "outputs": [
        {
          "output_type": "stream",
          "name": "stdout",
          "text": [
            "11.02\n",
            "12.98\n"
          ]
        }
      ]
    }
  ]
}