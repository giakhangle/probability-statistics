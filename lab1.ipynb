{
  "nbformat": 4,
  "nbformat_minor": 0,
  "metadata": {
    "colab": {
      "provenance": [],
      "authorship_tag": "ABX9TyNXFyaLgfzOG3NZ3Jc24RQ1",
      "include_colab_link": true
    },
    "kernelspec": {
      "name": "python3",
      "display_name": "Python 3"
    },
    "language_info": {
      "name": "python"
    }
  },
  "cells": [
    {
      "cell_type": "markdown",
      "metadata": {
        "id": "view-in-github",
        "colab_type": "text"
      },
      "source": [
        "<a href=\"https://colab.research.google.com/github/giakhangle/probability-statistics/blob/main/lab1.ipynb\" target=\"_parent\"><img src=\"https://colab.research.google.com/assets/colab-badge.svg\" alt=\"Open In Colab\"/></a>"
      ]
    },
    {
      "cell_type": "code",
      "execution_count": 14,
      "metadata": {
        "colab": {
          "base_uri": "https://localhost:8080/"
        },
        "id": "FZT1vtDin6H7",
        "outputId": "96a9fbcf-c84d-4569-e3ba-cc7dcd0639c7"
      },
      "outputs": [
        {
          "output_type": "stream",
          "name": "stdout",
          "text": [
            "P(A) =  0.0756\n",
            "P(B) =  0.0513\n",
            "P(C) =  0.0244\n",
            "P(D) =  0.0493\n",
            "P(E) =  0.0757\n",
            "P(C|D) =  0.4949290060851927\n",
            "P(C|E) =  0.32232496697490093\n"
          ]
        }
      ],
      "source": [
        "import math\n",
        "import random\n",
        "def chon_gioi_tinh():\n",
        "  return random.choice(['Nam','Nu'])\n",
        "A=0\n",
        "B=0\n",
        "C=0\n",
        "D=0\n",
        "E=0\n",
        "random.seed(0)\n",
        "for _ in range(1000):\n",
        "  thu_nhat = chon_gioi_tinh()\n",
        "  thu_hai = chon_gioi_tinh()\n",
        "  if not(thu_nhat == \"Nu\" and thu_hai == \"Nu\"):\n",
        "    A+=1\n",
        "  if (thu_nhat == \"Nam\" and thu_hai == \"Nu\") or (thu_nhat == \"Nu\" and thu_hai == \"Nam\"):\n",
        "    B+=1\n",
        "  if thu_nhat == \"Nu\" and thu_hai == \"Nu\":\n",
        "    C+=1\n",
        "  if thu_hai == \"Nu\":\n",
        "    D+=1\n",
        "  if thu_nhat == \"Nu\" or thu_hai == \"Nu\":\n",
        "    E+=1\n",
        "print(\"P(A) = \", A/10000)\n",
        "print(\"P(B) = \", B/10000)\n",
        "print(\"P(C) = \", C/10000)\n",
        "print(\"P(D) = \", D/10000)\n",
        "print(\"P(E) = \", E/10000)\n",
        "print(\"P(C|D) = \", C/D)\n",
        "print(\"P(C|E) = \", C/E)"
      ]
    },
    {
      "cell_type": "code",
      "source": [
        "import numpy as np\n",
        "import matplotlib.pyplot as plt\n",
        "x = np.linspace(-1, 2, 100)\n",
        "def uniform_pdf(x):\n",
        "  return 1 if x >= 0 and x < 1 else 0\n",
        "y = []\n",
        "for i in range(100):\n",
        "  y.append(uniform_pdf(x[i]))\n",
        "plt.plot(x, y, 'r')\n",
        "plt.show()"
      ],
      "metadata": {
        "colab": {
          "base_uri": "https://localhost:8080/",
          "height": 265
        },
        "id": "v4OYVHc8rls4",
        "outputId": "a1b16dcc-1f41-4b13-cf9c-bb333001dfa0"
      },
      "execution_count": 15,
      "outputs": [
        {
          "output_type": "display_data",
          "data": {
            "text/plain": [
              "<Figure size 432x288 with 1 Axes>"
            ],
            "image/png": "[encoded data removed]"
          },
          "metadata": {
            "needs_background": "light"
          }
        }
      ]
    },
    {
      "cell_type": "code",
      "source": [
        "import numpy as np\n",
        "import matplotlib.pyplot as plt\n",
        "x = np.linspace(-1, 2, 100)\n",
        "def uniform_cdf(x):\n",
        "  if x < 0:\n",
        "    return 0\n",
        "  elif x < 1:\n",
        "    return x\n",
        "  else:\n",
        "    return 1\n",
        "y = []\n",
        "for i in range(100):\n",
        "  y.append(uniform_cdf(x[i]))\n",
        "plt.plot(x, y, 'r')\n",
        "plt.show()"
      ],
      "metadata": {
        "colab": {
          "base_uri": "https://localhost:8080/",
          "height": 265
        },
        "id": "4St1JVQ_wJTv",
        "outputId": "4b964896-673b-424b-b284-ad2e186f1e25"
      },
      "execution_count": 16,
      "outputs": [
        {
          "output_type": "display_data",
          "data": {
            "text/plain": [
              "<Figure size 432x288 with 1 Axes>"
            ],
            "image/png": "[encoded data removed]"
          },
          "metadata": {
            "needs_background": "light"
          }
        }
      ]
    }
  ]
}